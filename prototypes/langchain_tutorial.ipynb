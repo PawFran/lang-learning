{
 "cells": [
  {
   "cell_type": "code",
   "execution_count": 1,
   "metadata": {},
   "outputs": [
    {
     "data": {
      "text/plain": [
       "'vocabulary/dict/english.txt'"
      ]
     },
     "execution_count": 1,
     "metadata": {},
     "output_type": "execute_result"
    }
   ],
   "source": [
    "import os\n",
    "from IPython.display import display, Markdown\n",
    "import openai\n",
    "from openai import OpenAI\n",
    "\n",
    "def pretty(obj):\n",
    "    display(Markdown(str(obj)))\n",
    "\n"
   ]
  },
  {
   "cell_type": "code",
   "execution_count": 114,
   "metadata": {},
   "outputs": [],
   "source": [
    "file_path = os.path.join('../vocabulary', 'dict', 'english.txt')\n",
    "file_path"
   ]
  },
  {
   "cell_type": "markdown",
   "metadata": {},
   "source": [
    "### Models"
   ]
  },
  {
   "cell_type": "code",
   "execution_count": 3,
   "metadata": {},
   "outputs": [],
   "source": [
    "import langchain_openai\n",
    "from langchain_openai import ChatOpenAI # type: ignore\n",
    "\n",
    "api_key = os.getenv(\"OPENAI_API_KEY\")\n",
    "\n",
    "chat_default = ChatOpenAI(model='gpt-4o-mini', temperature=0.7, openai_api_key=api_key)\n",
    "chat_reliable = ChatOpenAI(model='gpt-4o-mini', temperature=0.0, openai_api_key=api_key)\n",
    "chat_creative = ChatOpenAI(model='gpt-4o-mini', temperature=1.5, openai_api_key=api_key)\n",
    "\n",
    "all_chats = [chat_default, chat_reliable, chat_creative]"
   ]
  },
  {
   "cell_type": "code",
   "execution_count": 4,
   "metadata": {},
   "outputs": [],
   "source": [
    "def ask_all(prompt, chats: list[ChatOpenAI]=all_chats):\n",
    "    for chat in all_chats:\n",
    "        print(chat.invoke(prompt).content + '\\n')"
   ]
  },
  {
   "cell_type": "code",
   "execution_count": 5,
   "metadata": {},
   "outputs": [
    {
     "name": "stdout",
     "output_type": "stream",
     "text": [
      "Hello! How can I assist you today?\n",
      "\n",
      "Hello! How can I assist you today?\n",
      "\n",
      "Hello! How can I assist you today?\n",
      "\n"
     ]
    }
   ],
   "source": [
    "ask_all('hi')"
   ]
  },
  {
   "cell_type": "markdown",
   "metadata": {},
   "source": [
    "### Templates"
   ]
  },
  {
   "cell_type": "code",
   "execution_count": 120,
   "metadata": {},
   "outputs": [
    {
     "data": {
      "text/markdown": [
       "\n",
       "        explain word ```{word}``` using Cambridge Dictionary in the following format:\n",
       "        word [part of speech]\n",
       "        ()\n",
       "        1. explanation\n",
       "        (if there is more than one explanation you can list them using subsequent numbers)\n",
       "\n",
       "        I will give you some example for word 'battered':\n",
       "        battered [adjective]\n",
       "        ()\n",
       "        1. hurt by being repeatedly hit\n",
       "        2. damaged, especially by being used a lot\n",
       "\n",
       "        If You cannot find word please tell me that i probably made mistake and don't try to forcefully come up with something. \n",
       "        You may give me instead suggestions with similar words in case I just misspelled it. \n",
       "        For example if i write word 'beffled' You can respond:\n",
       "        Cannot find 'beffled' but I have found word(s) with similar spelling:\n",
       "        1. baffled\n",
       "        "
      ],
      "text/plain": [
       "<IPython.core.display.Markdown object>"
      ]
     },
     "metadata": {},
     "output_type": "display_data"
    }
   ],
   "source": [
    "from langchain.prompts import ChatPromptTemplate, FewShotPromptTemplate # type: ignore\n",
    "\n",
    "basic_prompt_template = ChatPromptTemplate.from_template(\n",
    "        \"\"\"\n",
    "        explain word ```{word}``` using Cambridge Dictionary in the following format:\n",
    "        word [part of speech]\n",
    "        ()\n",
    "        1. explanation\n",
    "        (if there is more than one explanation you can list them using subsequent numbers)\n",
    "\n",
    "        I will give you some example for word \\'battered\\':\n",
    "        battered [adjective]\n",
    "        ()\n",
    "        1. hurt by being repeatedly hit\n",
    "        2. damaged, especially by being used a lot\n",
    "\n",
    "        If You cannot find word please tell me that i probably made mistake and don't try to forcefully come up with something. \n",
    "        You may give me instead suggestions with similar words in case I just misspelled it. \n",
    "        For example if i write word \\'beffled\\' You can respond:\n",
    "        Cannot find \\'beffled\\' but I have found word(s) with similar spelling:\n",
    "        1. baffled\n",
    "        \"\"\"\n",
    ")\n",
    "\n",
    "pretty(basic_prompt_template.messages[0].prompt.template)"
   ]
  },
  {
   "cell_type": "markdown",
   "metadata": {},
   "source": [
    "### Structured response"
   ]
  },
  {
   "cell_type": "code",
   "execution_count": 7,
   "metadata": {},
   "outputs": [],
   "source": [
    "from langchain.output_parsers import ResponseSchema\n",
    "from langchain.output_parsers import StructuredOutputParser"
   ]
  },
  {
   "cell_type": "code",
   "execution_count": 8,
   "metadata": {},
   "outputs": [],
   "source": [
    "response_schemas = [\n",
    "    ResponseSchema(name=\"word\", description=\"base form of the word used in dictionary\"),\n",
    "    ResponseSchema(name=\"part_of_speech\", description=\"what part of speech it is\"), \n",
    "    ResponseSchema(name=\"translations\", description=\"list of most relevant translations. You can use more than one but don't put to many if it's not necessary.\", type='array'),\n",
    "    ResponseSchema(name=\"comment\", description=\"if You find relevant words You can keep this part empty. But if You cannot find anything please tell me that I probably made mistake and don't try to forcefully come up with something. You may suggest similar words instead. \")\n",
    "]\n",
    "\n",
    "output_parser = StructuredOutputParser.from_response_schemas(response_schemas)\n",
    "\n",
    "structured_format_instructions = output_parser.get_format_instructions()"
   ]
  },
  {
   "cell_type": "code",
   "execution_count": 9,
   "metadata": {},
   "outputs": [],
   "source": [
    "structured_prompt_template_str = \"\"\"\n",
    "        explain following word using Cambridge Dictionary in the following format:\n",
    "        \n",
    "        word: base form of the word used in dictionary\n",
    "        part_of_speech: what part of speech it is\n",
    "        translations: list of most relevant translations. You can use more than one but don't put to many if it's not necessary.\n",
    "        comment: if You find relevant words You can keep this part empty. But if You cannot find anything please tell me that I probably made mistake and don't try to forcefully come up with something. You may suggest similar words instead. \n",
    "\n",
    "        For example if I write word \\'battered\\' You can respond:\n",
    "        word: battered\n",
    "        part_of_speech: adjective\n",
    "        translations: ['hurt by being repeatedly hit', 'damaged, especially by being used a lot']\n",
    "        comment: \n",
    "\n",
    "        For example if I write word \\'beffled\\' You can respond:\n",
    "        word: \n",
    "        part_of_speech: \n",
    "        translations: \n",
    "        comment: Cannot find 'beffled' but I have found word(s) with similar spelling: [baffled; muffled]\n",
    "\n",
    "        word: {word}\n",
    "        format: {format_instructions}\n",
    "        \"\"\"\n",
    "\n",
    "structured_prompt_template = ChatPromptTemplate.from_template(\n",
    "    template=structured_prompt_template_str\n",
    ")"
   ]
  },
  {
   "cell_type": "code",
   "execution_count": 10,
   "metadata": {},
   "outputs": [],
   "source": [
    "def ask_generic(word: str, \n",
    "                prompt: ChatPromptTemplate = structured_prompt_template, \n",
    "                format_instructions: str = structured_format_instructions, output_parser: StructuredOutputParser | None = output_parser, \n",
    "                model: langchain_openai.ChatOpenAI | openai.OpenAI = chat_default\n",
    "                ) -> dict | str: # return type depends on output_parser\n",
    "    \n",
    "    messages = prompt.format_messages(word=word, format_instructions=format_instructions)\n",
    "\n",
    "    if type(model) == langchain_openai.ChatOpenAI:\n",
    "        response = model.invoke(messages)\n",
    "    elif type(model) == openai.OpenAI:\n",
    "        completion = model.chat.completions.create(\n",
    "        model=\"gpt-4o-mini\", # why don't take it from a model put in arguments ?\n",
    "        messages=[\n",
    "                {\"role\": \"system\", \"content\": \"You are a helpful assistant.\"},\n",
    "                {\n",
    "                    \"role\": \"user\",\n",
    "                    \"content\": basic_prompt_template.format_messages(word='harness', format_instructions=None)[0].content\n",
    "                }\n",
    "            ]\n",
    "        )\n",
    "\n",
    "        response = completion.choices[0].message    \n",
    "    else:\n",
    "        raise Exception(f'only {langchain_openai.ChatOpenAI} and {openai.OpenAI} are acceptable as model types!')\n",
    "    \n",
    "    if output_parser is None:\n",
    "        return response.content\n",
    "    \n",
    "    return output_parser.parse(response.content)\n"
   ]
  },
  {
   "cell_type": "code",
   "execution_count": 11,
   "metadata": {},
   "outputs": [],
   "source": [
    "def ask(word: str, prompt: ChatPromptTemplate = structured_prompt_template, format_instructions: str = structured_format_instructions, output_parser: StructuredOutputParser | None = output_parser, model = chat_default) -> dict:\n",
    "    messages = prompt.format_messages(word=word, format_instructions=format_instructions)\n",
    "\n",
    "    response = model.invoke(messages)\n",
    "\n",
    "    if output_parser is None:\n",
    "        return response.content\n",
    "    \n",
    "    return output_parser.parse(response.content)"
   ]
  },
  {
   "cell_type": "code",
   "execution_count": 12,
   "metadata": {},
   "outputs": [
    {
     "data": {
      "text/plain": [
       "'harness [noun]\\n()\\n1. a set of straps and fittings by which a horse or other animal is fastened to a cart, plow, etc., and which is also used to control the animal.\\n2. a similar set of straps used for holding something in place or for supporting someone, especially a safety harness.\\n  \\nharness [verb]\\n()\\n1. to put a harness on a horse or other animal.\\n2. to control something, usually in order to use its power or to achieve something.'"
      ]
     },
     "execution_count": 12,
     "metadata": {},
     "output_type": "execute_result"
    }
   ],
   "source": [
    "ask_generic('harness', prompt=basic_prompt_template, format_instructions=None, output_parser=None, model=chat_default)"
   ]
  },
  {
   "cell_type": "code",
   "execution_count": 13,
   "metadata": {},
   "outputs": [
    {
     "data": {
      "text/plain": [
       "'harness [noun]\\n()\\n1. a set of straps used to attach a person or an animal to something, especially a vehicle, so that they can pull it\\n2. a piece of equipment to control a horse or other animal\\n\\nharness [verb]\\n()\\n1. to put a harness on an animal\\n2. to control and make use of (natural resources, human resources, etc.)'"
      ]
     },
     "execution_count": 13,
     "metadata": {},
     "output_type": "execute_result"
    }
   ],
   "source": [
    "ask_generic('harness', prompt=basic_prompt_template, format_instructions=None, output_parser=None, model=chat_openai)"
   ]
  },
  {
   "cell_type": "code",
   "execution_count": 14,
   "metadata": {},
   "outputs": [
    {
     "data": {
      "text/plain": [
       "{'word': 'harness',\n",
       " 'part_of_speech': 'noun, verb',\n",
       " 'translations': ['a device for holding something in place',\n",
       "  'to control and make use of (natural resources, etc.)'],\n",
       " 'comment': ''}"
      ]
     },
     "execution_count": 14,
     "metadata": {},
     "output_type": "execute_result"
    }
   ],
   "source": [
    "ask_generic('harness', prompt=structured_prompt_template, format_instructions=structured_format_instructions, output_parser=output_parser, model=chat_default)"
   ]
  },
  {
   "cell_type": "markdown",
   "metadata": {},
   "source": [
    "#### prompt for modifying schema\n",
    "i have such schema in langchain:\n",
    "response_schemas = [\n",
    "    ResponseSchema(name=\"word\", description=\"base form of the word used in dictionary\"),\n",
    "    ResponseSchema(name=\"part_of_speech\", description=\"what part of speech it is\"), \n",
    "    ResponseSchema(name=\"translations\", description=\"list of most relevant translations. You can use more than one but don't put to many if it's not necessary.\", type='array'),\n",
    "    ResponseSchema(name=\"comment\", description=\"if You find relevant words You can keep this part empty. But if You cannot find anything please tell me that I probably made mistake and don't try to forcefully come up with something. You may suggest similar words instead. \")\n",
    "]\n",
    "\n",
    "it gives me output like this:\n",
    "{'word': 'harness',\n",
    " 'part_of_speech': 'noun',\n",
    " 'translations': ['a set of straps and belts',\n",
    "  'to control and make use of (something)'],\n",
    " 'comment': ''}\n",
    "\n",
    "now i'd like to modify it so the output will be list of such dictionaries. for example for 'harness' it may be:\n",
    "{'harness': [\n",
    "    {\n",
    "        'part_of_speech': 'noun',\n",
    "        'translations': ['a set of straps and belts',\n",
    "        'to control and make use of (something)'],\n",
    "        'comment': ''\n",
    "    }, \n",
    "    {\n",
    "        'part_of_speech': 'verb',\n",
    "        'translations': ['to put a harness on a horse or other animal',\n",
    "        'to use something for a particular purpose, especially for energy or power'],\n",
    "        'comment': ''\n",
    "    }\n",
    "    ]\n",
    "}\n",
    "\n",
    "\n",
    "after few more prompts we arrived at this:\n",
    "from langchain.output_parsers import JsonOutputKeyParser\n",
    "\n",
    "json_schema = {\n",
    "    \"type\": \"object\",\n",
    "    \"properties\": {\n",
    "        \"words\": {\n",
    "            \"type\": \"object\",\n",
    "            \"additionalProperties\": {\n",
    "                \"type\": \"array\",\n",
    "                \"items\": {\n",
    "                    \"type\": \"object\",\n",
    "                    \"properties\": {\n",
    "                        \"part_of_speech\": {\n",
    "                            \"type\": \"string\",\n",
    "                            \"description\": \"The grammatical category of the word (e.g., noun, verb).\"\n",
    "                        },\n",
    "                        \"translations\": {\n",
    "                            \"type\": \"array\",\n",
    "                            \"items\": {\"type\": \"string\"},\n",
    "                            \"description\": \"List of most relevant translations.\"\n",
    "                        },\n",
    "                        \"comment\": {\n",
    "                            \"type\": \"string\",\n",
    "                            \"description\": \"Optional comment about the translations. If the word is unclear, suggest alternatives.\"\n",
    "                        }\n",
    "                    },\n",
    "                    \"required\": [\"part_of_speech\", \"translations\"]  # Ensure mandatory fields\n",
    "                }\n",
    "            }\n",
    "        }\n",
    "    },\n",
    "    \"required\": [\"words\"]\n",
    "}\n",
    "\n",
    "output_parser = JsonOutputKeyParser(key_name=\"words\", json_schema=json_schema)\n",
    "\n",
    "needs to be checked"
   ]
  },
  {
   "cell_type": "markdown",
   "metadata": {},
   "source": [
    "generally structured can be more complex - include ex. lang, only_plural etc. \n",
    "or maybe different schemas for different languages"
   ]
  },
  {
   "cell_type": "code",
   "execution_count": 15,
   "metadata": {},
   "outputs": [
    {
     "data": {
      "text/plain": [
       "{'word': 'baffled',\n",
       " 'part_of_speech': 'adjective',\n",
       " 'translations': ['confused', 'puzzled'],\n",
       " 'comment': ''}"
      ]
     },
     "execution_count": 15,
     "metadata": {},
     "output_type": "execute_result"
    }
   ],
   "source": [
    "ask('baffled')"
   ]
  },
  {
   "cell_type": "code",
   "execution_count": 16,
   "metadata": {},
   "outputs": [
    {
     "data": {
      "text/plain": [
       "'baffled [adjective]  \\n()  \\n1. unable to understand or explain something; confused or perplexed.  \\n2. surprised and confused; unable to think clearly.'"
      ]
     },
     "execution_count": 16,
     "metadata": {},
     "output_type": "execute_result"
    }
   ],
   "source": [
    "ask('baffled', prompt=basic_prompt_template, format_instructions=None, output_parser=None)"
   ]
  },
  {
   "cell_type": "code",
   "execution_count": 17,
   "metadata": {},
   "outputs": [
    {
     "data": {
      "text/plain": [
       "{'word': 'beffled',\n",
       " 'part_of_speech': '',\n",
       " 'translations': [],\n",
       " 'comment': \"Cannot find 'beffled' but I have found word(s) with similar spelling: [baffled; muffled]\"}"
      ]
     },
     "execution_count": 17,
     "metadata": {},
     "output_type": "execute_result"
    }
   ],
   "source": [
    "ask('beffled')"
   ]
  },
  {
   "cell_type": "code",
   "execution_count": 18,
   "metadata": {},
   "outputs": [
    {
     "data": {
      "text/plain": [
       "\"Cannot find 'beffled' but I have found word(s) with similar spelling:\\n1. baffled\""
      ]
     },
     "execution_count": 18,
     "metadata": {},
     "output_type": "execute_result"
    }
   ],
   "source": [
    "ask('beffled', prompt=basic_prompt_template, format_instructions=None, output_parser=None)"
   ]
  },
  {
   "cell_type": "code",
   "execution_count": 19,
   "metadata": {},
   "outputs": [
    {
     "data": {
      "text/plain": [
       "{'word': 'harness',\n",
       " 'part_of_speech': 'noun',\n",
       " 'translations': ['a set of straps and fittings by which a horse or other animal is fastened to a vehicle',\n",
       "  'a device used to control or manage something'],\n",
       " 'comment': ''}"
      ]
     },
     "execution_count": 19,
     "metadata": {},
     "output_type": "execute_result"
    }
   ],
   "source": [
    "ask('harness')"
   ]
  },
  {
   "cell_type": "code",
   "execution_count": 20,
   "metadata": {},
   "outputs": [
    {
     "data": {
      "text/plain": [
       "'harness [noun]  \\n()  \\n1. a set of straps and belts used to control a horse or other animal, or to hold something in place  \\n2. a piece of equipment that is worn to help support or protect the body, often used in activities like climbing or skydiving  \\n\\nharness [verb]  \\n()  \\n1. to control and make use of something, especially a resource or an energy source  '"
      ]
     },
     "execution_count": 20,
     "metadata": {},
     "output_type": "execute_result"
    }
   ],
   "source": [
    "ask('harness', prompt=basic_prompt_template, format_instructions=None, output_parser=None)"
   ]
  },
  {
   "cell_type": "markdown",
   "metadata": {},
   "source": [
    "### Q&A over documents (RAG)"
   ]
  },
  {
   "cell_type": "code",
   "execution_count": 28,
   "metadata": {},
   "outputs": [],
   "source": [
    "from langchain.document_loaders import TextLoader\n",
    "from langchain.text_splitter import CharacterTextSplitter, RecursiveCharacterTextSplitter\n",
    "import os"
   ]
  },
  {
   "cell_type": "code",
   "execution_count": 22,
   "metadata": {},
   "outputs": [],
   "source": [
    "file_path = os.path.join('../vocabulary', 'dicts', 'english.txt')\n",
    "loader = TextLoader(file_path)\n",
    "docs = loader.load()"
   ]
  },
  {
   "cell_type": "code",
   "execution_count": 81,
   "metadata": {},
   "outputs": [],
   "source": [
    "# neither of them ensures one dict entry per chunk!\n",
    "\n",
    "splitter = RecursiveCharacterTextSplitter(\n",
    "    chunk_size=1000,   # Doesn't matter much since we are enforcing strict splitting\n",
    "    chunk_overlap=0,   # No overlap needed\n",
    "    separators=[\"\\n\\n\"]  # Ensure splitting only happens at double newlines\n",
    ")\n",
    "\n",
    "# text_splitter = CharacterTextSplitter(\n",
    "#     separator=\"\\n\\n\",\n",
    "#     chunk_size=10000,    # Large enough to not split within entries\n",
    "#     chunk_overlap=0,\n",
    "#     strip_whitespace=True,\n",
    "#     is_separator_regex=False\n",
    "# )\n",
    "\n",
    "# text_splitter = CharacterTextSplitter(\n",
    "#     separator=\"\\n\\n\",\n",
    "#     chunk_size=1000,      # Smaller chunk size\n",
    "#     chunk_overlap=0,\n",
    "#     length_function=len,\n",
    "#     is_separator_regex=False,\n",
    "#     strip_whitespace=True\n",
    "# )\n",
    "\n",
    "# text_splitter = CharacterTextSplitter(\n",
    "#     separator=\"\\n\\n\",\n",
    "#     chunk_size=100000,\n",
    "#     chunk_overlap=0\n",
    "# )\n",
    "\n",
    "docs = splitter.split_documents(docs)"
   ]
  },
  {
   "cell_type": "code",
   "execution_count": 82,
   "metadata": {},
   "outputs": [
    {
     "data": {
      "text/plain": [
       "49"
      ]
     },
     "execution_count": 82,
     "metadata": {},
     "output_type": "execute_result"
    }
   ],
   "source": [
    "len(docs)"
   ]
  },
  {
   "cell_type": "code",
   "execution_count": 83,
   "metadata": {},
   "outputs": [
    {
     "data": {
      "text/plain": [
       "'cy it was)\\n\\nfancy [adj]\\n(I wanted a simple black dress, nothing fancy) \\n1. decorative or complicated'"
      ]
     },
     "execution_count": 83,
     "metadata": {},
     "output_type": "execute_result"
    }
   ],
   "source": [
    "docs[0].page_content[-100:]"
   ]
  },
  {
   "cell_type": "code",
   "execution_count": 84,
   "metadata": {},
   "outputs": [],
   "source": [
    "from langchain.docstore.document import Document\n",
    "\n",
    "with open(file_path, 'r') as file:\n",
    "    content = file.read()\n",
    "\n",
    "# Split on double newlines and filter out empty entries\n",
    "entries = [entry.strip() for entry in content.split('\\n\\n') if entry.strip()]\n",
    "\n",
    "# Convert each entry to a Document\n",
    "docs = [\n",
    "    Document(page_content=entry, metadata={\"source\": file_path}) \n",
    "    for entry in entries\n",
    "]"
   ]
  },
  {
   "cell_type": "code",
   "execution_count": 85,
   "metadata": {},
   "outputs": [
    {
     "data": {
      "text/plain": [
       "240"
      ]
     },
     "execution_count": 85,
     "metadata": {},
     "output_type": "execute_result"
    }
   ],
   "source": [
    "len(docs)"
   ]
  },
  {
   "cell_type": "code",
   "execution_count": 86,
   "metadata": {},
   "outputs": [
    {
     "data": {
      "text/markdown": [
       "impel [verb]\n",
       "(I never read medicine advertisement without being impelled to the conclusion that I am suffering from the particular disease) [Three Men in a Boat (to say nothing of the dog)]\n",
       "1. to make someone feel that they must do something\n",
       "2. to force someone to do something"
      ],
      "text/plain": [
       "<IPython.core.display.Markdown object>"
      ]
     },
     "execution_count": 86,
     "metadata": {},
     "output_type": "execute_result"
    }
   ],
   "source": [
    "pretty(docs[0].page_content)"
   ]
  },
  {
   "cell_type": "code",
   "execution_count": 87,
   "metadata": {},
   "outputs": [
    {
     "data": {
      "text/markdown": [
       "a touch of [phrase]\n",
       "(Slight ailment of which I had a touch) [Three Men in a Boat (to say nothing of the dog)] \n",
       "1. a small amount of (something) : a hint or trace of (something)"
      ],
      "text/plain": [
       "<IPython.core.display.Markdown object>"
      ]
     },
     "execution_count": 87,
     "metadata": {},
     "output_type": "execute_result"
    }
   ],
   "source": [
    "pretty(docs[1].page_content)"
   ]
  },
  {
   "cell_type": "code",
   "execution_count": 70,
   "metadata": {},
   "outputs": [],
   "source": [
    "from langchain_openai import OpenAIEmbeddings\n",
    "embedder = OpenAIEmbeddings(model=\"text-embedding-ada-002\", openai_api_key=api_key)"
   ]
  },
  {
   "cell_type": "code",
   "execution_count": 71,
   "metadata": {},
   "outputs": [],
   "source": [
    "embedded_query = embedder.embed_query(\"hello world\")"
   ]
  },
  {
   "cell_type": "code",
   "execution_count": 72,
   "metadata": {},
   "outputs": [
    {
     "data": {
      "text/plain": [
       "1536"
      ]
     },
     "execution_count": 72,
     "metadata": {},
     "output_type": "execute_result"
    }
   ],
   "source": [
    "len(embedded_query)"
   ]
  },
  {
   "cell_type": "code",
   "execution_count": 73,
   "metadata": {},
   "outputs": [
    {
     "data": {
      "text/plain": [
       "[-0.01609949767589569,\n",
       " 0.0013686870224773884,\n",
       " -0.01948472298681736,\n",
       " -0.0336947925388813,\n",
       " -0.026005873456597328,\n",
       " 0.007675800006836653,\n",
       " -0.024890584871172905,\n",
       " -0.0003144945949316025,\n",
       " -0.013002936728298664,\n",
       " -0.021689055487513542]"
      ]
     },
     "execution_count": 73,
     "metadata": {},
     "output_type": "execute_result"
    }
   ],
   "source": [
    "embedded_query[:10]"
   ]
  },
  {
   "cell_type": "code",
   "execution_count": 74,
   "metadata": {},
   "outputs": [
    {
     "data": {
      "text/plain": [
       "36000"
      ]
     },
     "execution_count": 74,
     "metadata": {},
     "output_type": "execute_result"
    }
   ],
   "source": [
    "long_str = \"lorep ipsum \" * 3000\n",
    "len(long_str)"
   ]
  },
  {
   "cell_type": "code",
   "execution_count": 75,
   "metadata": {},
   "outputs": [],
   "source": [
    "long_query_embedded = embedder.embed_query(long_str)"
   ]
  },
  {
   "cell_type": "code",
   "execution_count": 88,
   "metadata": {},
   "outputs": [
    {
     "data": {
      "text/plain": [
       "[-0.005008402904363089, 0.016765096406017768]"
      ]
     },
     "execution_count": 88,
     "metadata": {},
     "output_type": "execute_result"
    }
   ],
   "source": [
    "len(long_query_embedded)\n",
    "long_query_embedded[:2]"
   ]
  },
  {
   "cell_type": "code",
   "execution_count": 89,
   "metadata": {},
   "outputs": [
    {
     "data": {
      "text/plain": [
       "[-0.01609949767589569, 0.0013686870224773884]"
      ]
     },
     "execution_count": 89,
     "metadata": {},
     "output_type": "execute_result"
    }
   ],
   "source": [
    "embedded_query[:2]"
   ]
  },
  {
   "cell_type": "code",
   "execution_count": 131,
   "metadata": {},
   "outputs": [],
   "source": [
    "from langchain.vectorstores import DocArrayInMemorySearch\n",
    "from langchain.chains import RetrievalQA\n",
    "\n",
    "db = DocArrayInMemorySearch.from_documents(\n",
    "    docs, \n",
    "    embedder\n",
    ")\n",
    "\n",
    "retriever = db.as_retriever()\n",
    "\n",
    "def print_retrieved_content(query):\n",
    "    for x in db.similarity_search(query):\n",
    "        pretty(x.page_content)\n",
    "\n",
    "qa_chain = RetrievalQA.from_chain_type(\n",
    "    llm=chat_default, \n",
    "    chain_type='stuff',\n",
    "    retriever=retriever,\n",
    "    verbose=True\n",
    ")\n",
    "\n",
    "def print_qa_content(query):\n",
    "    pretty(qa_chain(query)['result'])"
   ]
  },
  {
   "cell_type": "code",
   "execution_count": 123,
   "metadata": {},
   "outputs": [],
   "source": [
    "query1 = 'becoming weaker'\n",
    "query2 = 'becoming less strong'"
   ]
  },
  {
   "cell_type": "code",
   "execution_count": null,
   "metadata": {},
   "outputs": [
    {
     "data": {
      "text/markdown": [
       "feeble [adj]\n",
       "(\"Get me out of this\" was the feeble reply)\n",
       "1. weak and without energy, strength, or power"
      ],
      "text/plain": [
       "<IPython.core.display.Markdown object>"
      ]
     },
     "metadata": {},
     "output_type": "display_data"
    },
    {
     "data": {
      "text/markdown": [
       "frail [adjective]\n",
       "()\n",
       "1. weak and delicate\n",
       "2. easily damaged or broken"
      ],
      "text/plain": [
       "<IPython.core.display.Markdown object>"
      ]
     },
     "metadata": {},
     "output_type": "display_data"
    },
    {
     "data": {
      "text/markdown": [
       "senescence [noun]\n",
       "(We have done theoretical work on the evolution of trade-offs, senescence and morality)\n",
       "1. the fact of becoming older, and therefore being in less good condition and less able to function well"
      ],
      "text/plain": [
       "<IPython.core.display.Markdown object>"
      ]
     },
     "metadata": {},
     "output_type": "display_data"
    },
    {
     "data": {
      "text/markdown": [
       "impair [verb]\n",
       "(Why do we choose to impair and disrupt our own cognition ?) [A hunter-gatherer's guide to the 21st century]\n",
       "1. to spoil something or make it weaker so that it is less effective"
      ],
      "text/plain": [
       "<IPython.core.display.Markdown object>"
      ]
     },
     "metadata": {},
     "output_type": "display_data"
    }
   ],
   "source": [
    "print_retrieved_content('becoming weaker')"
   ]
  },
  {
   "cell_type": "code",
   "execution_count": 126,
   "metadata": {},
   "outputs": [
    {
     "data": {
      "text/markdown": [
       "feeble [adj]\n",
       "(\"Get me out of this\" was the feeble reply)\n",
       "1. weak and without energy, strength, or power"
      ],
      "text/plain": [
       "<IPython.core.display.Markdown object>"
      ]
     },
     "metadata": {},
     "output_type": "display_data"
    },
    {
     "data": {
      "text/markdown": [
       "subside [verb]\n",
       "(This subsided but interest was again revived)\n",
       "1. to become less strong or loud"
      ],
      "text/plain": [
       "<IPython.core.display.Markdown object>"
      ]
     },
     "metadata": {},
     "output_type": "display_data"
    },
    {
     "data": {
      "text/markdown": [
       "frail [adjective]\n",
       "()\n",
       "1. weak and delicate\n",
       "2. easily damaged or broken"
      ],
      "text/plain": [
       "<IPython.core.display.Markdown object>"
      ]
     },
     "metadata": {},
     "output_type": "display_data"
    },
    {
     "data": {
      "text/markdown": [
       "senescence [noun]\n",
       "(We have done theoretical work on the evolution of trade-offs, senescence and morality)\n",
       "1. the fact of becoming older, and therefore being in less good condition and less able to function well"
      ],
      "text/plain": [
       "<IPython.core.display.Markdown object>"
      ]
     },
     "metadata": {},
     "output_type": "display_data"
    }
   ],
   "source": [
    "print_retrieved_content('becoming less strong')"
   ]
  },
  {
   "cell_type": "code",
   "execution_count": 132,
   "metadata": {},
   "outputs": [
    {
     "name": "stdout",
     "output_type": "stream",
     "text": [
      "\n",
      "\n",
      "\u001B[1m> Entering new RetrievalQA chain...\u001B[0m\n",
      "\n",
      "\u001B[1m> Finished chain.\u001B[0m\n"
     ]
    },
    {
     "data": {
      "text/markdown": [
       "The term \"becoming weaker\" can relate to several concepts, such as \"feeble,\" which describes something that is weak and without energy, or \"frail,\" which refers to being weak and delicate. Additionally, \"senescence\" refers to the process of aging, which often involves becoming less effective or in a less good condition over time."
      ],
      "text/plain": [
       "<IPython.core.display.Markdown object>"
      ]
     },
     "metadata": {},
     "output_type": "display_data"
    }
   ],
   "source": [
    "print_qa_content('becoming weaker')"
   ]
  },
  {
   "cell_type": "code",
   "execution_count": 133,
   "metadata": {},
   "outputs": [
    {
     "name": "stdout",
     "output_type": "stream",
     "text": [
      "\n",
      "\n",
      "\u001B[1m> Entering new RetrievalQA chain...\u001B[0m\n",
      "\n",
      "\u001B[1m> Finished chain.\u001B[0m\n"
     ]
    },
    {
     "data": {
      "text/markdown": [
       "The term that describes becoming less strong is \"subside.\""
      ],
      "text/plain": [
       "<IPython.core.display.Markdown object>"
      ]
     },
     "metadata": {},
     "output_type": "display_data"
    }
   ],
   "source": [
    "print_qa_content('becoming less strong')"
   ]
  },
  {
   "cell_type": "markdown",
   "metadata": {},
   "source": [
    "### Evaluation"
   ]
  },
  {
   "cell_type": "markdown",
   "metadata": {},
   "source": []
  },
  {
   "cell_type": "code",
   "execution_count": null,
   "metadata": {},
   "outputs": [],
   "source": []
  }
 ],
 "metadata": {
  "kernelspec": {
   "display_name": "lang-learning",
   "language": "python",
   "name": "python3"
  },
  "language_info": {
   "codemirror_mode": {
    "name": "ipython",
    "version": 3
   },
   "file_extension": ".py",
   "mimetype": "text/x-python",
   "name": "python",
   "nbconvert_exporter": "python",
   "pygments_lexer": "ipython3",
   "version": "3.13.1"
  }
 },
 "nbformat": 4,
 "nbformat_minor": 2
}
